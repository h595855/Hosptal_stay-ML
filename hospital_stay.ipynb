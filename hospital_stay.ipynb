{
 "cells": [
  {
   "cell_type": "markdown",
   "metadata": {},
   "source": [
    "### Look at the big picture"
   ]
  },
  {
   "cell_type": "markdown",
   "metadata": {},
   "source": [
    "The goal of this task is to predict patient's length-of-stay in the hospital."
   ]
  },
  {
   "cell_type": "markdown",
   "metadata": {},
   "source": [
    "### Get data"
   ]
  },
  {
   "cell_type": "code",
   "execution_count": 1,
   "metadata": {},
   "outputs": [],
   "source": [
    "import numpy as np\n",
    "import pandas as pd\n",
    "import seaborn as sns"
   ]
  },
  {
   "cell_type": "code",
   "execution_count": 17,
   "metadata": {},
   "outputs": [
    {
     "name": "stdout",
     "output_type": "stream",
     "text": [
      "(70000, 27)\n",
      "(30000, 26)\n",
      "deez\n"
     ]
    }
   ],
   "source": [
    "train = pd.read_csv('training_data.csv')\n",
    "test = pd.read_csv('test_data.csv')\n",
    "metadata = pd.read_csv('metadata.csv')\n",
    "data_dictionary = pd.read_csv('data_dictionary.csv')\n",
    "print(train.shape)\n",
    "print(test.shape)"
   ]
  },
  {
   "cell_type": "markdown",
   "metadata": {},
   "source": [
    "## Explore the data to gain insights"
   ]
  },
  {
   "cell_type": "markdown",
   "metadata": {},
   "source": [
    "#### Training set"
   ]
  },
  {
   "cell_type": "code",
   "execution_count": 3,
   "metadata": {},
   "outputs": [
    {
     "data": {
      "text/html": [
       "<div>\n",
       "<style scoped>\n",
       "    .dataframe tbody tr th:only-of-type {\n",
       "        vertical-align: middle;\n",
       "    }\n",
       "\n",
       "    .dataframe tbody tr th {\n",
       "        vertical-align: top;\n",
       "    }\n",
       "\n",
       "    .dataframe thead th {\n",
       "        text-align: right;\n",
       "    }\n",
       "</style>\n",
       "<table border=\"1\" class=\"dataframe\">\n",
       "  <thead>\n",
       "    <tr style=\"text-align: right;\">\n",
       "      <th></th>\n",
       "      <th>id</th>\n",
       "      <th>vdate</th>\n",
       "      <th>rcount</th>\n",
       "      <th>gender</th>\n",
       "      <th>dialysisrenalendstage</th>\n",
       "      <th>asthma</th>\n",
       "      <th>irondef</th>\n",
       "      <th>pneum</th>\n",
       "      <th>substancedependence</th>\n",
       "      <th>psychologicaldisordermajor</th>\n",
       "      <th>...</th>\n",
       "      <th>sodium</th>\n",
       "      <th>glucose</th>\n",
       "      <th>bloodureanitro</th>\n",
       "      <th>creatinine</th>\n",
       "      <th>bmi</th>\n",
       "      <th>pulse</th>\n",
       "      <th>respiration</th>\n",
       "      <th>secondarydiagnosisnonicd9</th>\n",
       "      <th>facid</th>\n",
       "      <th>lengthofstay</th>\n",
       "    </tr>\n",
       "  </thead>\n",
       "  <tbody>\n",
       "    <tr>\n",
       "      <th>0</th>\n",
       "      <td>76513</td>\n",
       "      <td>2012-07-05</td>\n",
       "      <td>4</td>\n",
       "      <td>M</td>\n",
       "      <td>False</td>\n",
       "      <td>False</td>\n",
       "      <td>False</td>\n",
       "      <td>False</td>\n",
       "      <td>False</td>\n",
       "      <td>True</td>\n",
       "      <td>...</td>\n",
       "      <td>137.150067</td>\n",
       "      <td>148.420532</td>\n",
       "      <td>23.0</td>\n",
       "      <td>0.955051</td>\n",
       "      <td>28.450268</td>\n",
       "      <td>63</td>\n",
       "      <td>6.7</td>\n",
       "      <td>1</td>\n",
       "      <td>E</td>\n",
       "      <td>7</td>\n",
       "    </tr>\n",
       "    <tr>\n",
       "      <th>1</th>\n",
       "      <td>60406</td>\n",
       "      <td>2012-02-26</td>\n",
       "      <td>1</td>\n",
       "      <td>M</td>\n",
       "      <td>False</td>\n",
       "      <td>False</td>\n",
       "      <td>False</td>\n",
       "      <td>False</td>\n",
       "      <td>False</td>\n",
       "      <td>False</td>\n",
       "      <td>...</td>\n",
       "      <td>140.643655</td>\n",
       "      <td>166.718526</td>\n",
       "      <td>9.0</td>\n",
       "      <td>1.385747</td>\n",
       "      <td>29.233048</td>\n",
       "      <td>81</td>\n",
       "      <td>6.5</td>\n",
       "      <td>0</td>\n",
       "      <td>B</td>\n",
       "      <td>3</td>\n",
       "    </tr>\n",
       "    <tr>\n",
       "      <th>2</th>\n",
       "      <td>27322</td>\n",
       "      <td>2012-11-19</td>\n",
       "      <td>1</td>\n",
       "      <td>F</td>\n",
       "      <td>False</td>\n",
       "      <td>False</td>\n",
       "      <td>False</td>\n",
       "      <td>False</td>\n",
       "      <td>False</td>\n",
       "      <td>False</td>\n",
       "      <td>...</td>\n",
       "      <td>138.459305</td>\n",
       "      <td>106.468142</td>\n",
       "      <td>12.0</td>\n",
       "      <td>0.816984</td>\n",
       "      <td>34.295535</td>\n",
       "      <td>75</td>\n",
       "      <td>6.5</td>\n",
       "      <td>1</td>\n",
       "      <td>B</td>\n",
       "      <td>5</td>\n",
       "    </tr>\n",
       "    <tr>\n",
       "      <th>3</th>\n",
       "      <td>53699</td>\n",
       "      <td>2012-01-30</td>\n",
       "      <td>0</td>\n",
       "      <td>F</td>\n",
       "      <td>False</td>\n",
       "      <td>False</td>\n",
       "      <td>False</td>\n",
       "      <td>False</td>\n",
       "      <td>False</td>\n",
       "      <td>False</td>\n",
       "      <td>...</td>\n",
       "      <td>138.667613</td>\n",
       "      <td>144.311236</td>\n",
       "      <td>12.0</td>\n",
       "      <td>1.082725</td>\n",
       "      <td>31.207914</td>\n",
       "      <td>75</td>\n",
       "      <td>6.5</td>\n",
       "      <td>1</td>\n",
       "      <td>B</td>\n",
       "      <td>2</td>\n",
       "    </tr>\n",
       "    <tr>\n",
       "      <th>4</th>\n",
       "      <td>65412</td>\n",
       "      <td>2012-09-04</td>\n",
       "      <td>3</td>\n",
       "      <td>F</td>\n",
       "      <td>False</td>\n",
       "      <td>True</td>\n",
       "      <td>False</td>\n",
       "      <td>False</td>\n",
       "      <td>False</td>\n",
       "      <td>False</td>\n",
       "      <td>...</td>\n",
       "      <td>133.463292</td>\n",
       "      <td>199.728635</td>\n",
       "      <td>12.0</td>\n",
       "      <td>1.081557</td>\n",
       "      <td>30.475797</td>\n",
       "      <td>89</td>\n",
       "      <td>6.5</td>\n",
       "      <td>7</td>\n",
       "      <td>D</td>\n",
       "      <td>8</td>\n",
       "    </tr>\n",
       "  </tbody>\n",
       "</table>\n",
       "<p>5 rows × 27 columns</p>\n",
       "</div>"
      ],
      "text/plain": [
       "      id       vdate  rcount gender  dialysisrenalendstage  asthma  irondef  \\\n",
       "0  76513  2012-07-05       4      M                  False   False    False   \n",
       "1  60406  2012-02-26       1      M                  False   False    False   \n",
       "2  27322  2012-11-19       1      F                  False   False    False   \n",
       "3  53699  2012-01-30       0      F                  False   False    False   \n",
       "4  65412  2012-09-04       3      F                  False    True    False   \n",
       "\n",
       "   pneum  substancedependence  psychologicaldisordermajor  ...      sodium  \\\n",
       "0  False                False                        True  ...  137.150067   \n",
       "1  False                False                       False  ...  140.643655   \n",
       "2  False                False                       False  ...  138.459305   \n",
       "3  False                False                       False  ...  138.667613   \n",
       "4  False                False                       False  ...  133.463292   \n",
       "\n",
       "      glucose  bloodureanitro  creatinine        bmi  pulse  respiration  \\\n",
       "0  148.420532            23.0    0.955051  28.450268     63          6.7   \n",
       "1  166.718526             9.0    1.385747  29.233048     81          6.5   \n",
       "2  106.468142            12.0    0.816984  34.295535     75          6.5   \n",
       "3  144.311236            12.0    1.082725  31.207914     75          6.5   \n",
       "4  199.728635            12.0    1.081557  30.475797     89          6.5   \n",
       "\n",
       "   secondarydiagnosisnonicd9  facid  lengthofstay  \n",
       "0                          1      E             7  \n",
       "1                          0      B             3  \n",
       "2                          1      B             5  \n",
       "3                          1      B             2  \n",
       "4                          7      D             8  \n",
       "\n",
       "[5 rows x 27 columns]"
      ]
     },
     "execution_count": 3,
     "metadata": {},
     "output_type": "execute_result"
    }
   ],
   "source": [
    "train.head()"
   ]
  },
  {
   "cell_type": "markdown",
   "metadata": {},
   "source": [
    "We note that there are some missing values in the feature `gender`, `hemo` and `bmi`. info()"
   ]
  },
  {
   "cell_type": "code",
   "execution_count": 4,
   "metadata": {},
   "outputs": [
    {
     "data": {
      "text/plain": [
       "id                            False\n",
       "vdate                         False\n",
       "rcount                        False\n",
       "gender                         True\n",
       "dialysisrenalendstage         False\n",
       "asthma                        False\n",
       "irondef                       False\n",
       "pneum                         False\n",
       "substancedependence           False\n",
       "psychologicaldisordermajor    False\n",
       "depress                       False\n",
       "psychother                    False\n",
       "fibrosisandother              False\n",
       "malnutrition                  False\n",
       "hemo                           True\n",
       "hematocrit                    False\n",
       "neutrophils                   False\n",
       "sodium                        False\n",
       "glucose                       False\n",
       "bloodureanitro                False\n",
       "creatinine                    False\n",
       "bmi                            True\n",
       "pulse                         False\n",
       "respiration                   False\n",
       "secondarydiagnosisnonicd9     False\n",
       "facid                         False\n",
       "lengthofstay                  False\n",
       "dtype: bool"
      ]
     },
     "execution_count": 4,
     "metadata": {},
     "output_type": "execute_result"
    }
   ],
   "source": [
    "train.isna().any()"
   ]
  },
  {
   "cell_type": "code",
   "execution_count": 5,
   "metadata": {},
   "outputs": [
    {
     "data": {
      "text/plain": [
       "array([False, True, nan], dtype=object)"
      ]
     },
     "execution_count": 5,
     "metadata": {},
     "output_type": "execute_result"
    }
   ],
   "source": [
    "train.hemo.unique()"
   ]
  },
  {
   "cell_type": "code",
   "execution_count": 6,
   "metadata": {},
   "outputs": [
    {
     "data": {
      "text/plain": [
       "array(['M', 'F', nan], dtype=object)"
      ]
     },
     "execution_count": 6,
     "metadata": {},
     "output_type": "execute_result"
    }
   ],
   "source": [
    "train.gender.unique()"
   ]
  },
  {
   "cell_type": "code",
   "execution_count": 7,
   "metadata": {},
   "outputs": [
    {
     "name": "stdout",
     "output_type": "stream",
     "text": [
      "<class 'pandas.core.frame.DataFrame'>\n",
      "RangeIndex: 70000 entries, 0 to 69999\n",
      "Data columns (total 27 columns):\n",
      " #   Column                      Non-Null Count  Dtype  \n",
      "---  ------                      --------------  -----  \n",
      " 0   id                          70000 non-null  int64  \n",
      " 1   vdate                       70000 non-null  object \n",
      " 2   rcount                      70000 non-null  int64  \n",
      " 3   gender                      69931 non-null  object \n",
      " 4   dialysisrenalendstage       70000 non-null  bool   \n",
      " 5   asthma                      70000 non-null  bool   \n",
      " 6   irondef                     70000 non-null  bool   \n",
      " 7   pneum                       70000 non-null  bool   \n",
      " 8   substancedependence         70000 non-null  bool   \n",
      " 9   psychologicaldisordermajor  70000 non-null  bool   \n",
      " 10  depress                     70000 non-null  bool   \n",
      " 11  psychother                  70000 non-null  bool   \n",
      " 12  fibrosisandother            70000 non-null  bool   \n",
      " 13  malnutrition                70000 non-null  bool   \n",
      " 14  hemo                        69654 non-null  object \n",
      " 15  hematocrit                  70000 non-null  float64\n",
      " 16  neutrophils                 70000 non-null  float64\n",
      " 17  sodium                      70000 non-null  float64\n",
      " 18  glucose                     70000 non-null  float64\n",
      " 19  bloodureanitro              70000 non-null  float64\n",
      " 20  creatinine                  70000 non-null  float64\n",
      " 21  bmi                         69630 non-null  float64\n",
      " 22  pulse                       70000 non-null  int64  \n",
      " 23  respiration                 70000 non-null  float64\n",
      " 24  secondarydiagnosisnonicd9   70000 non-null  int64  \n",
      " 25  facid                       70000 non-null  object \n",
      " 26  lengthofstay                70000 non-null  int64  \n",
      "dtypes: bool(10), float64(8), int64(5), object(4)\n",
      "memory usage: 9.7+ MB\n"
     ]
    }
   ],
   "source": [
    "train.info()"
   ]
  },
  {
   "cell_type": "markdown",
   "metadata": {},
   "source": [
    "Replace NaN values by mean"
   ]
  },
  {
   "cell_type": "code",
   "execution_count": 8,
   "metadata": {},
   "outputs": [],
   "source": [
    "HemoMedian = train[\"hemo\"].median()\n",
    "train[\"hemo\"].fillna(HemoMedian, inplace=True)\n"
   ]
  },
  {
   "cell_type": "code",
   "execution_count": 9,
   "metadata": {},
   "outputs": [],
   "source": [
    "BMIMedian = train[\"bmi\"].median()\n",
    "train[\"bmi\"].fillna(BMIMedian, inplace=True)"
   ]
  },
  {
   "cell_type": "markdown",
   "metadata": {},
   "source": [
    "Replace NaN with dummies for `gender`. (Binary representation)"
   ]
  },
  {
   "cell_type": "code",
   "execution_count": 10,
   "metadata": {},
   "outputs": [],
   "source": [
    "train = pd.concat([train.drop('gender', axis=1), pd.get_dummies(train['gender'])], axis=1)"
   ]
  },
  {
   "cell_type": "code",
   "execution_count": 11,
   "metadata": {},
   "outputs": [
    {
     "name": "stdout",
     "output_type": "stream",
     "text": [
      "<class 'pandas.core.frame.DataFrame'>\n",
      "RangeIndex: 70000 entries, 0 to 69999\n",
      "Data columns (total 28 columns):\n",
      " #   Column                      Non-Null Count  Dtype  \n",
      "---  ------                      --------------  -----  \n",
      " 0   id                          70000 non-null  int64  \n",
      " 1   vdate                       70000 non-null  object \n",
      " 2   rcount                      70000 non-null  int64  \n",
      " 3   dialysisrenalendstage       70000 non-null  bool   \n",
      " 4   asthma                      70000 non-null  bool   \n",
      " 5   irondef                     70000 non-null  bool   \n",
      " 6   pneum                       70000 non-null  bool   \n",
      " 7   substancedependence         70000 non-null  bool   \n",
      " 8   psychologicaldisordermajor  70000 non-null  bool   \n",
      " 9   depress                     70000 non-null  bool   \n",
      " 10  psychother                  70000 non-null  bool   \n",
      " 11  fibrosisandother            70000 non-null  bool   \n",
      " 12  malnutrition                70000 non-null  bool   \n",
      " 13  hemo                        70000 non-null  object \n",
      " 14  hematocrit                  70000 non-null  float64\n",
      " 15  neutrophils                 70000 non-null  float64\n",
      " 16  sodium                      70000 non-null  float64\n",
      " 17  glucose                     70000 non-null  float64\n",
      " 18  bloodureanitro              70000 non-null  float64\n",
      " 19  creatinine                  70000 non-null  float64\n",
      " 20  bmi                         70000 non-null  float64\n",
      " 21  pulse                       70000 non-null  int64  \n",
      " 22  respiration                 70000 non-null  float64\n",
      " 23  secondarydiagnosisnonicd9   70000 non-null  int64  \n",
      " 24  facid                       70000 non-null  object \n",
      " 25  lengthofstay                70000 non-null  int64  \n",
      " 26  F                           70000 non-null  uint8  \n",
      " 27  M                           70000 non-null  uint8  \n",
      "dtypes: bool(10), float64(8), int64(5), object(3), uint8(2)\n",
      "memory usage: 9.3+ MB\n"
     ]
    }
   ],
   "source": [
    "train.info()"
   ]
  },
  {
   "cell_type": "markdown",
   "metadata": {},
   "source": [
    "our target label is ``lengthofstay`.  It is a continuous value and our task is a *regression task*. "
   ]
  },
  {
   "cell_type": "code",
   "execution_count": 12,
   "metadata": {},
   "outputs": [
    {
     "data": {
      "text/plain": [
       "<AxesSubplot: >"
      ]
     },
     "execution_count": 12,
     "metadata": {},
     "output_type": "execute_result"
    },
    {
     "data": {
      "image/png": "[encoded data removed]",
      "text/plain": [
       "<Figure size 640x480 with 1 Axes>"
      ]
     },
     "metadata": {},
     "output_type": "display_data"
    }
   ],
   "source": [
    "train.lengthofstay.hist()"
   ]
  },
  {
   "cell_type": "markdown",
   "metadata": {},
   "source": [
    "#### Data dictionary"
   ]
  },
  {
   "cell_type": "code",
   "execution_count": 13,
   "metadata": {},
   "outputs": [
    {
     "data": {
      "text/html": [
       "<div>\n",
       "<style scoped>\n",
       "    .dataframe tbody tr th:only-of-type {\n",
       "        vertical-align: middle;\n",
       "    }\n",
       "\n",
       "    .dataframe tbody tr th {\n",
       "        vertical-align: top;\n",
       "    }\n",
       "\n",
       "    .dataframe thead th {\n",
       "        text-align: right;\n",
       "    }\n",
       "</style>\n",
       "<table border=\"1\" class=\"dataframe\">\n",
       "  <thead>\n",
       "    <tr style=\"text-align: right;\">\n",
       "      <th></th>\n",
       "      <th>Index</th>\n",
       "      <th>Data fields</th>\n",
       "      <th>Type</th>\n",
       "      <th>Descriptions</th>\n",
       "      <th>LengthOfStay</th>\n",
       "    </tr>\n",
       "  </thead>\n",
       "  <tbody>\n",
       "    <tr>\n",
       "      <th>0</th>\n",
       "      <td>1.0</td>\n",
       "      <td>eid</td>\n",
       "      <td>Integer</td>\n",
       "      <td>Unique Id of the hospital admission</td>\n",
       "      <td>NaN</td>\n",
       "    </tr>\n",
       "    <tr>\n",
       "      <th>1</th>\n",
       "      <td>2.0</td>\n",
       "      <td>vdate</td>\n",
       "      <td>String</td>\n",
       "      <td>Visit date</td>\n",
       "      <td>NaN</td>\n",
       "    </tr>\n",
       "    <tr>\n",
       "      <th>2</th>\n",
       "      <td>3.0</td>\n",
       "      <td>rcount</td>\n",
       "      <td>Integer</td>\n",
       "      <td>Number of readmissions within last 180 days</td>\n",
       "      <td>NaN</td>\n",
       "    </tr>\n",
       "    <tr>\n",
       "      <th>3</th>\n",
       "      <td>4.0</td>\n",
       "      <td>gender</td>\n",
       "      <td>String</td>\n",
       "      <td>Gender of the patient\\nM or F</td>\n",
       "      <td>NaN</td>\n",
       "    </tr>\n",
       "    <tr>\n",
       "      <th>4</th>\n",
       "      <td>5.0</td>\n",
       "      <td>dialysisrenalendstage</td>\n",
       "      <td>String</td>\n",
       "      <td>Flag for renal disease during encounter</td>\n",
       "      <td>NaN</td>\n",
       "    </tr>\n",
       "  </tbody>\n",
       "</table>\n",
       "</div>"
      ],
      "text/plain": [
       "   Index                  Data fields      Type  \\\n",
       "0    1.0                          eid   Integer   \n",
       "1    2.0                        vdate    String   \n",
       "2    3.0                       rcount  Integer    \n",
       "3    4.0                       gender    String   \n",
       "4    5.0  dialysisrenalendstage          String   \n",
       "\n",
       "                                  Descriptions  LengthOfStay  \n",
       "0          Unique Id of the hospital admission           NaN  \n",
       "1                                   Visit date           NaN  \n",
       "2  Number of readmissions within last 180 days           NaN  \n",
       "3                Gender of the patient\\nM or F           NaN  \n",
       "4      Flag for renal disease during encounter           NaN  "
      ]
     },
     "execution_count": 13,
     "metadata": {},
     "output_type": "execute_result"
    }
   ],
   "source": [
    "data_dictionary.head()"
   ]
  },
  {
   "cell_type": "markdown",
   "metadata": {},
   "source": [
    "#### Metadata"
   ]
  },
  {
   "cell_type": "code",
   "execution_count": 14,
   "metadata": {},
   "outputs": [
    {
     "data": {
      "text/html": [
       "<div>\n",
       "<style scoped>\n",
       "    .dataframe tbody tr th:only-of-type {\n",
       "        vertical-align: middle;\n",
       "    }\n",
       "\n",
       "    .dataframe tbody tr th {\n",
       "        vertical-align: top;\n",
       "    }\n",
       "\n",
       "    .dataframe thead th {\n",
       "        text-align: right;\n",
       "    }\n",
       "</style>\n",
       "<table border=\"1\" class=\"dataframe\">\n",
       "  <thead>\n",
       "    <tr style=\"text-align: right;\">\n",
       "      <th></th>\n",
       "      <th>Capacity</th>\n",
       "      <th>Id</th>\n",
       "      <th>Name</th>\n",
       "    </tr>\n",
       "  </thead>\n",
       "  <tbody>\n",
       "    <tr>\n",
       "      <th>0</th>\n",
       "      <td>30</td>\n",
       "      <td>C</td>\n",
       "      <td>General Medicine 3 South</td>\n",
       "    </tr>\n",
       "    <tr>\n",
       "      <th>1</th>\n",
       "      <td>95</td>\n",
       "      <td>E</td>\n",
       "      <td>Behavioral 1 East</td>\n",
       "    </tr>\n",
       "    <tr>\n",
       "      <th>2</th>\n",
       "      <td>75</td>\n",
       "      <td>A</td>\n",
       "      <td>General Medicine 3 West</td>\n",
       "    </tr>\n",
       "    <tr>\n",
       "      <th>3</th>\n",
       "      <td>80</td>\n",
       "      <td>B</td>\n",
       "      <td>Pulmonary 2 West</td>\n",
       "    </tr>\n",
       "    <tr>\n",
       "      <th>4</th>\n",
       "      <td>100</td>\n",
       "      <td>D</td>\n",
       "      <td>Geriatrics 2 East</td>\n",
       "    </tr>\n",
       "  </tbody>\n",
       "</table>\n",
       "</div>"
      ],
      "text/plain": [
       "   Capacity Id                      Name\n",
       "0        30  C  General Medicine 3 South\n",
       "1        95  E         Behavioral 1 East\n",
       "2        75  A   General Medicine 3 West\n",
       "3        80  B          Pulmonary 2 West\n",
       "4       100  D         Geriatrics 2 East"
      ]
     },
     "execution_count": 14,
     "metadata": {},
     "output_type": "execute_result"
    }
   ],
   "source": [
    "metadata.head()"
   ]
  },
  {
   "cell_type": "markdown",
   "metadata": {},
   "source": [
    "#### Test set"
   ]
  },
  {
   "cell_type": "code",
   "execution_count": 15,
   "metadata": {},
   "outputs": [
    {
     "name": "stdout",
     "output_type": "stream",
     "text": [
      "<class 'pandas.core.frame.DataFrame'>\n",
      "RangeIndex: 30000 entries, 0 to 29999\n",
      "Data columns (total 26 columns):\n",
      " #   Column                      Non-Null Count  Dtype  \n",
      "---  ------                      --------------  -----  \n",
      " 0   id                          30000 non-null  int64  \n",
      " 1   vdate                       30000 non-null  object \n",
      " 2   rcount                      30000 non-null  int64  \n",
      " 3   gender                      29969 non-null  object \n",
      " 4   dialysisrenalendstage       30000 non-null  bool   \n",
      " 5   asthma                      30000 non-null  bool   \n",
      " 6   irondef                     30000 non-null  bool   \n",
      " 7   pneum                       30000 non-null  bool   \n",
      " 8   substancedependence         30000 non-null  bool   \n",
      " 9   psychologicaldisordermajor  30000 non-null  bool   \n",
      " 10  depress                     30000 non-null  bool   \n",
      " 11  psychother                  30000 non-null  bool   \n",
      " 12  fibrosisandother            30000 non-null  bool   \n",
      " 13  malnutrition                30000 non-null  bool   \n",
      " 14  hemo                        29846 non-null  object \n",
      " 15  hematocrit                  30000 non-null  float64\n",
      " 16  neutrophils                 30000 non-null  float64\n",
      " 17  sodium                      30000 non-null  float64\n",
      " 18  glucose                     30000 non-null  float64\n",
      " 19  bloodureanitro              30000 non-null  float64\n",
      " 20  creatinine                  30000 non-null  float64\n",
      " 21  bmi                         29870 non-null  float64\n",
      " 22  pulse                       30000 non-null  int64  \n",
      " 23  respiration                 30000 non-null  float64\n",
      " 24  secondarydiagnosisnonicd9   30000 non-null  int64  \n",
      " 25  facid                       30000 non-null  object \n",
      "dtypes: bool(10), float64(8), int64(4), object(4)\n",
      "memory usage: 3.9+ MB\n"
     ]
    }
   ],
   "source": [
    "test.info()"
   ]
  },
  {
   "cell_type": "markdown",
   "metadata": {},
   "source": [
    "### Notatet"
   ]
  }
 ],
 "metadata": {
  "interpreter": {
   "hash": "aee8b7b246df8f9039afb4144a1f6fd8d2ca17a180786b69acc140d282b71a49"
  },
  "kernelspec": {
   "display_name": "Python 3.10.7 64-bit",
   "name": "python3"
  },
  "language_info": {
   "codemirror_mode": {
    "name": "ipython",
    "version": 3
   },
   "file_extension": ".py",
   "mimetype": "text/x-python",
   "name": "python",
   "nbconvert_exporter": "python",
   "pygments_lexer": "ipython3",
   "version": "3.10.7"
  },
  "orig_nbformat": 4,
  "vscode": {
   "interpreter": {
    "hash": "314fe18ff6ef08cff44e0f13f48c28634103f5687a681f9b8ba192236a1f93e2"
   }
  }
 },
 "nbformat": 4,
 "nbformat_minor": 2
}
